{
 "cells": [
  {
   "cell_type": "code",
   "execution_count": null,
   "metadata": {
    "_cell_guid": "96c46b45-efdb-4e24-b251-14f2838a46f6",
    "_uuid": "7e34b63f-e069-402c-bc7c-f47edb3bb1ec"
   },
   "outputs": [],
   "source": [
    "from warnings import filterwarnings\n",
    "import sys\n",
    "filterwarnings(\"ignore\")\n",
    "\n",
    "import pandas as pd\n",
    "import numpy as np\n",
    "import matplotlib.pyplot as plt\n",
    "import cv2 as cv\n",
    "import tensorflow as tf\n",
    "import scipy as sc\n",
    "\n",
    "from tensorflow.keras import Sequential\n",
    "from tensorflow.keras.layers import *\n",
    "from tensorflow.keras.models import Model\n",
    "from tensorflow.keras.callbacks import ModelCheckpoint\n",
    "\n",
    "from sklearn.model_selection import train_test_split\n",
    "from sklearn.preprocessing import OneHotEncoder\n",
    "\n",
    "from gc import collect\n",
    "from time import time,sleep\n",
    "from os import path,system\n",
    "from json import dumps\n",
    "from tqdm.notebook import tqdm"
   ]
  },
  {
   "cell_type": "code",
   "execution_count": null,
   "metadata": {
    "_cell_guid": "910b2859-a334-4ccd-b431-f273bf294d29",
    "_uuid": "175d8958-0769-4297-b0d8-7fc74ea16a42"
   },
   "outputs": [],
   "source": [
    "labels = pd.read_csv(\"./train.csv\")"
   ]
  },
  {
   "cell_type": "code",
   "execution_count": null,
   "metadata": {
    "_cell_guid": "568f724b-46b6-4c26-bd8b-ab76b9018d1a",
    "_uuid": "1e344cbb-37a1-4b91-aca7-cf13ee694125"
   },
   "outputs": [],
   "source": [
    "labels.pop(\"grapheme\");\n",
    "labels.nunique()"
   ]
  },
  {
   "cell_type": "code",
   "execution_count": null,
   "metadata": {
    "_cell_guid": "16049600-5893-4e48-a998-e2d41f9fa1dc",
    "_uuid": "f01ffe94-4426-477c-8af1-263a35b03d34"
   },
   "outputs": [],
   "source": [
    "grapheme_root_ohe = OneHotEncoder(dtype=np.uint16,sparse=False)\n",
    "vowel_diacritic_ohe = OneHotEncoder(dtype=np.uint16,sparse=False)\n",
    "consonant_diacritic_ohe = OneHotEncoder(dtype=np.uint16,sparse=False)\n",
    "\n",
    "grapheme_root_ohe.fit(labels[['grapheme_root']])\n",
    "vowel_diacritic_ohe.fit(labels[['vowel_diacritic']])\n",
    "consonant_diacritic_ohe.fit(labels[['consonant_diacritic']])"
   ]
  },
  {
   "cell_type": "code",
   "execution_count": null,
   "metadata": {
    "_cell_guid": "aad88435-4fe4-4a3c-b421-c494662373fd",
    "_uuid": "7a72c380-def6-4053-9144-d87a788ca71a"
   },
   "outputs": [],
   "source": [
    "inputs = Input(shape = (48, 64, 1),name=\"inputs\")\n",
    "model = Conv2D(filters=32, kernel_size=(10, 10), padding='SAME', activation='relu', input_shape=(48,64,1))(inputs)\n",
    "model = Conv2D(filters=32, kernel_size=(8, 8), padding='SAME', activation='relu')(model)\n",
    "model = MaxPool2D(pool_size=(2, 2))(model)\n",
    "model = Conv2D(filters=64, kernel_size=(6, 6), padding='SAME', activation='relu')(model)\n",
    "model = Conv2D(filters=64, kernel_size=(5, 5), padding='SAME', activation='relu')(model)\n",
    "model = Conv2D(filters=64, kernel_size=(5, 5), padding='SAME', activation='relu')(model)\n",
    "model = MaxPool2D(pool_size=(2, 2))(model)\n",
    "model = Conv2D(filters=128, kernel_size=(3, 3), padding='SAME', activation='relu')(model)\n",
    "model = Conv2D(filters=128, kernel_size=(3, 3), padding='SAME', activation='relu')(model)\n",
    "model = BatchNormalization(momentum=0.15)(model)\n",
    "model = Dropout(rate=0.3)(model)\n",
    "\n",
    "model = Flatten()(model)\n",
    "model = Dense(4096, activation = \"relu\")(model)\n",
    "model = Dropout(rate=0.3)(model)\n",
    "dense = Dense(2048, activation = \"relu\")(model)\n",
    "\n",
    "head_root = Dense(168, activation = 'softmax',name=\"grapheme_root\")(dense)\n",
    "head_vowel = Dense(11, activation = 'softmax',name='vowel_diacritic')(dense)\n",
    "head_consonant = Dense(7, activation = 'softmax',name='consonant_diacritic')(dense)\n",
    "\n",
    "outputs = [\n",
    "        head_root, \n",
    "        head_vowel, \n",
    "        head_consonant\n",
    "]\n",
    "\n",
    "model = Model(inputs=inputs, outputs=outputs)"
   ]
  },
  {
   "cell_type": "code",
   "execution_count": null,
   "metadata": {
    "_cell_guid": "866b1785-20c8-41da-9e52-6a0391254a11",
    "_uuid": "6ad3b05f-889f-4221-a00e-3bbadee4eea0"
   },
   "outputs": [],
   "source": [
    "model.compile(optimizer=\"adam\",loss='categorical_crossentropy',metrics=['accuracy'])"
   ]
  },
  {
   "cell_type": "code",
   "execution_count": null,
   "metadata": {},
   "outputs": [],
   "source": [
    "def crop(img,pad=True):\n",
    "    W_THRESH = 15\n",
    "    H_THRESH = 15\n",
    "    PAD = 3 if pad else 0\n",
    "\n",
    "    W_MIN,W_MAX = np.where(img.std(axis=0) > W_THRESH)[0][[0,-1]]\n",
    "    H_MIN,H_MAX = np.where(img.std(axis=1) > H_THRESH)[0][[0,-1]]\n",
    "    \n",
    "    return np.pad(img[H_MIN:H_MAX,W_MIN:W_MAX],PAD,constant_values=253)\n",
    "\n",
    "def resize(img):\n",
    "    img = crop(img.reshape(137,236).astype(np.uint8))\n",
    "    ret,img = cv.threshold(img,110,255,cv.THRESH_BINARY_INV)    \n",
    "    return cv.resize(img,(48,64)).astype(np.uint8).reshape(48,64,1)\n",
    "        \n",
    "def get_train(file_id):\n",
    "    \n",
    "    columns=['image_id','grapheme_root','vowel_diacritic','consonant_diacritic']\n",
    "    df = pd.read_parquet(f\"./train_image_data_{file_id}.parquet\")\n",
    "    df = pd.merge(\n",
    "        df,\n",
    "        labels,\n",
    "        on='image_id'\n",
    "    )\n",
    "\n",
    "    imgs = np.zeros((1,48,64,1))\n",
    "    label = df[columns]\n",
    "    \n",
    "    df = df.drop(columns=columns)\n",
    "    batch_size = 2000\n",
    "    for i in range(batch_size,df.shape[0],batch_size):\n",
    "        batch = np.apply_along_axis(resize,1,df.iloc[i-batch_size:i].values[:,:])\n",
    "        imgs = np.r_[imgs,batch]\n",
    "        \n",
    "    batch = np.apply_along_axis(resize,1,df.iloc[i:].values[:,:])\n",
    "    imgs = np.r_[imgs,batch]\n",
    "    \n",
    "    grapheme_root = grapheme_root_ohe.transform(label.grapheme_root.values.reshape(-1,1))\n",
    "    vowel_diacritic = vowel_diacritic_ohe.transform(label.vowel_diacritic.values.reshape(-1,1))\n",
    "    consonant_diacritic = consonant_diacritic_ohe.transform(label.consonant_diacritic.values.reshape(-1,1))\n",
    "    \n",
    "    del df\n",
    "    collect()\n",
    "    \n",
    "    imgs = imgs[1:]\n",
    "\n",
    "    return imgs.reshape(-1,48*64),(grapheme_root,vowel_diacritic,consonant_diacritic)"
   ]
  },
  {
   "cell_type": "code",
   "execution_count": null,
   "metadata": {},
   "outputs": [],
   "source": [
    "X,Y = get_train(0)\n",
    "\n",
    "Y = list(Y)\n",
    "print (collect())\n",
    "\n",
    "for i in range(1,4):\n",
    "    X_, Y_ = get_train(i)\n",
    "    X = np.concatenate((X,X_),axis=0)\n",
    "    \n",
    "    Y[0] = np.concatenate((Y[0],Y_[0]),axis=0)\n",
    "    Y[1] = np.concatenate((Y[1],Y_[1]),axis=0)\n",
    "    Y[2] = np.concatenate((Y[2],Y_[2]),axis=0)\n",
    "    \n",
    "    del X_,Y_\n",
    "    print (collect())\n",
    "    \n",
    "X = sc.sparse.csc_matrix(X)\n",
    "    \n",
    "collect()\n",
    "sleep(10)"
   ]
  },
  {
   "cell_type": "code",
   "execution_count": null,
   "metadata": {},
   "outputs": [],
   "source": [
    "def input_flow(x,y,batch_size=200,epochs=20):\n",
    "    for _ in range(epochs):\n",
    "        for i in range(batch_size,x.shape[0],batch_size):\n",
    "            yield (\n",
    "                    {\n",
    "                        \"inputs\":x[i-batch_size:i].toarray().reshape(-1,48,64,1)/255\n",
    "                    },\n",
    "                    {\n",
    "                        \"grapheme_root\":y[0][i-batch_size:i],\n",
    "                        'vowel_diacritic':y[1][i-batch_size:i],\n",
    "                        'consonant_diacritic':y[2][i-batch_size:i]\n",
    "                    }\n",
    "                )\n",
    "\n",
    "        yield (\n",
    "                    {\n",
    "                        \"inputs\":x[i:].toarray().reshape(-1,48,64,1)/255\n",
    "                    },\n",
    "                    {\n",
    "                        \"grapheme_root\":y[0][i:],\n",
    "                        'vowel_diacritic':y[1][i:],\n",
    "                        'consonant_diacritic':y[2][i:]\n",
    "                    }\n",
    "                )"
   ]
  },
  {
   "cell_type": "code",
   "execution_count": null,
   "metadata": {
    "_cell_guid": "04c84cc1-d7e3-4a40-857a-778c088d9630",
    "_kg_hide-output": true,
    "_uuid": "93467089-bdb1-4fca-9873-a61b776783e4",
    "scrolled": false
   },
   "outputs": [],
   "source": [
    "EPOCHS = 25\n",
    "BATCH_SIZE = 300\n",
    "\n",
    "for epoch in range(EPOCHS):\n",
    "    print (f\"Epoch : {epoch}\")\n",
    "    gen = input_flow(X,Y,batch_size=BATCH_SIZE,epochs=1)\n",
    "    model.fit_generator(gen,steps_per_epoch=X.shape[0]//BATCH_SIZE,epochs=1,verbose = 1)\n",
    "    print (collect())\n",
    "    sleep(10)"
   ]
  },
  {
   "cell_type": "code",
   "execution_count": null,
   "metadata": {},
   "outputs": [],
   "source": [
    "del X,Y\n",
    "collect()\n",
    "sleep(30)"
   ]
  },
  {
   "cell_type": "code",
   "execution_count": null,
   "metadata": {},
   "outputs": [],
   "source": [
    "def get_test(file_id):\n",
    "    df = pd.read_parquet(f\"/kaggle/input/bengaliai-cv19/test_image_data_{file_id}.parquet\")\n",
    "    imgs = np.zeros((1,48,48,1))\n",
    "    imageId = []\n",
    "    batch_size = 2000\n",
    "    i = 0\n",
    "    \n",
    "    for i in range(batch_size,df.shape[0],batch_size):\n",
    "        batch = np.apply_along_axis(resize,1,df.iloc[i-batch_size:i].values[:,1:])\n",
    "        imgs = np.r_[imgs,batch]\n",
    "        imageId += df.iloc[i-batch_size:i].values[:,0].reshape(-1).tolist()\n",
    "        \n",
    "    batch = np.apply_along_axis(resize,1,df.iloc[i:].values[:,1:])\n",
    "    imgs = np.r_[imgs,batch]\n",
    "    imageId += df.iloc[i:].values[:,0].reshape(-1).tolist()\n",
    "        \n",
    "    del df\n",
    "    collect()\n",
    "    \n",
    "    imgs = imgs[1:]\n",
    "    return imgs.reshape(-1,48*48),imageId\n",
    "\n",
    "def input_flow_test(x,batch_size=200):\n",
    "    i = 0\n",
    "    for i in range(batch_size,x.shape[0],batch_size):\n",
    "        yield  x[i-batch_size:i].reshape(-1,48,48,1)/255\n",
    "    yield x[i:].reshape(-1,48,48,1)/255"
   ]
  },
  {
   "cell_type": "code",
   "execution_count": null,
   "metadata": {
    "_cell_guid": "7d246af0-8ce8-4734-9597-6dbee2aab9bb",
    "_uuid": "fabb3541-d6a9-44be-887d-f40c2d59c51d"
   },
   "outputs": [],
   "source": [
    "row_ids = []\n",
    "targets = []\n",
    "    \n",
    "for i in range(4):\n",
    "    X, Y = get_test(i)\n",
    "    gen = input_flow_test(X,batch_size=700)\n",
    "    preds = model.predict_generator(gen)\n",
    "    \n",
    "    for i,g,v,c in zip(Y,*preds):\n",
    "        row_ids.append(f\"{i}_consonant_diacritic\")\n",
    "        targets.append(c.argmax())\n",
    "\n",
    "        row_ids.append(f\"{i}_grapheme_root\")\n",
    "        targets.append(g.argmax())\n",
    "\n",
    "        row_ids.append(f\"{i}_vowel_diacritic\")\n",
    "        targets.append(v.argmax())\n",
    "    \n",
    "    del X,Y\n",
    "    print (collect())"
   ]
  },
  {
   "cell_type": "code",
   "execution_count": null,
   "metadata": {},
   "outputs": [],
   "source": [
    "submit = pd.DataFrame({\n",
    "    \"row_id\":row_ids,\n",
    "    \"target\":targets\n",
    "})"
   ]
  },
  {
   "cell_type": "code",
   "execution_count": null,
   "metadata": {},
   "outputs": [],
   "source": [
    "submit"
   ]
  },
  {
   "cell_type": "code",
   "execution_count": null,
   "metadata": {},
   "outputs": [],
   "source": [
    "submit.to_csv(\"./submission.csv\",index=False)"
   ]
  }
 ],
 "metadata": {
  "kernelspec": {
   "display_name": "Python 3",
   "language": "python",
   "name": "python3"
  },
  "language_info": {
   "codemirror_mode": {
    "name": "ipython",
    "version": 3
   },
   "file_extension": ".py",
   "mimetype": "text/x-python",
   "name": "python",
   "nbconvert_exporter": "python",
   "pygments_lexer": "ipython3",
   "version": "3.6.9"
  }
 },
 "nbformat": 4,
 "nbformat_minor": 1
}
